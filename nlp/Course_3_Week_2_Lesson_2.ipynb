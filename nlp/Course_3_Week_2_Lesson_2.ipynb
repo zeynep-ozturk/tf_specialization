{
  "nbformat": 4,
  "nbformat_minor": 0,
  "metadata": {
    "colab": {
      "name": "Course 3 - Week 2 - Lesson 2.ipynb",
      "provenance": [],
      "collapsed_sections": [],
      "include_colab_link": true
    },
    "kernelspec": {
      "name": "python3",
      "display_name": "Python 3"
    },
    "accelerator": "GPU"
  },
  "cells": [
    {
      "cell_type": "markdown",
      "metadata": {
        "id": "view-in-github",
        "colab_type": "text"
      },
      "source": [
        "<a href=\"https://colab.research.google.com/github/zezeko/tf_specialization/blob/master/nlp/Course_3_Week_2_Lesson_2.ipynb\" target=\"_parent\"><img src=\"https://colab.research.google.com/assets/colab-badge.svg\" alt=\"Open In Colab\"/></a>"
      ]
    },
    {
      "cell_type": "code",
      "metadata": {
        "id": "XYYDvoskkE61",
        "colab_type": "code",
        "colab": {}
      },
      "source": [
        "import json\n",
        "import tensorflow as tf\n",
        "\n",
        "from tensorflow.keras.preprocessing.text import Tokenizer\n",
        "from tensorflow.keras.preprocessing.sequence import pad_sequences"
      ],
      "execution_count": 0,
      "outputs": []
    },
    {
      "cell_type": "code",
      "metadata": {
        "id": "0eJSTTYnkJQd",
        "colab_type": "code",
        "colab": {}
      },
      "source": [
        "vocab_size = 1000\n",
        "embedding_dim = 128\n",
        "max_length = 16\n",
        "trunc_type='post'\n",
        "padding_type='post'\n",
        "oov_tok = \"<OOV>\"\n",
        "training_size = 20000\n"
      ],
      "execution_count": 0,
      "outputs": []
    },
    {
      "cell_type": "code",
      "metadata": {
        "id": "BQVuQrZNkPn9",
        "colab_type": "code",
        "colab": {
          "base_uri": "https://localhost:8080/",
          "height": 210
        },
        "outputId": "9280043b-86b4-40a2-e96e-9ea50a65e5cf"
      },
      "source": [
        "!wget --no-check-certificate \\\n",
        "    https://storage.googleapis.com/laurencemoroney-blog.appspot.com/sarcasm.json \\\n",
        "    -O /tmp/sarcasm.json\n"
      ],
      "execution_count": 3,
      "outputs": [
        {
          "output_type": "stream",
          "text": [
            "--2020-01-20 10:20:00--  https://storage.googleapis.com/laurencemoroney-blog.appspot.com/sarcasm.json\n",
            "Resolving storage.googleapis.com (storage.googleapis.com)... 74.125.20.128, 2607:f8b0:400e:c07::80\n",
            "Connecting to storage.googleapis.com (storage.googleapis.com)|74.125.20.128|:443... connected.\n",
            "HTTP request sent, awaiting response... 200 OK\n",
            "Length: 5643545 (5.4M) [application/json]\n",
            "Saving to: ‘/tmp/sarcasm.json’\n",
            "\n",
            "\r/tmp/sarcasm.json     0%[                    ]       0  --.-KB/s               \r/tmp/sarcasm.json   100%[===================>]   5.38M  --.-KB/s    in 0.04s   \n",
            "\n",
            "2020-01-20 10:20:00 (127 MB/s) - ‘/tmp/sarcasm.json’ saved [5643545/5643545]\n",
            "\n"
          ],
          "name": "stdout"
        }
      ]
    },
    {
      "cell_type": "code",
      "metadata": {
        "id": "oaLaaqhNkUPd",
        "colab_type": "code",
        "colab": {}
      },
      "source": [
        "with open(\"/tmp/sarcasm.json\", 'r') as f:\n",
        "    datastore = json.load(f)\n",
        "\n",
        "sentences = []\n",
        "labels = []\n",
        "\n",
        "for item in datastore:\n",
        "    sentences.append(item['headline'])\n",
        "    labels.append(item['is_sarcastic'])"
      ],
      "execution_count": 0,
      "outputs": []
    },
    {
      "cell_type": "code",
      "metadata": {
        "id": "S1sD-7v0kYWk",
        "colab_type": "code",
        "colab": {}
      },
      "source": [
        "training_sentences = sentences[0:training_size]\n",
        "testing_sentences = sentences[training_size:]\n",
        "training_labels = labels[0:training_size]\n",
        "testing_labels = labels[training_size:]"
      ],
      "execution_count": 0,
      "outputs": []
    },
    {
      "cell_type": "code",
      "metadata": {
        "id": "3u8UB0MCkZ5N",
        "colab_type": "code",
        "colab": {}
      },
      "source": [
        "tokenizer = Tokenizer(num_words=vocab_size, oov_token=oov_tok)\n",
        "tokenizer.fit_on_texts(training_sentences)\n",
        "\n",
        "word_index = tokenizer.word_index\n",
        "\n",
        "training_sequences = tokenizer.texts_to_sequences(training_sentences)\n",
        "training_padded = pad_sequences(training_sequences, maxlen=max_length, padding=padding_type, truncating=trunc_type)\n",
        "\n",
        "testing_sequences = tokenizer.texts_to_sequences(testing_sentences)\n",
        "testing_padded = pad_sequences(testing_sequences, maxlen=max_length, padding=padding_type, truncating=trunc_type)"
      ],
      "execution_count": 0,
      "outputs": []
    },
    {
      "cell_type": "code",
      "metadata": {
        "id": "FufaT4vlkiDE",
        "colab_type": "code",
        "colab": {}
      },
      "source": [
        "model = tf.keras.Sequential([\n",
        "    tf.keras.layers.Embedding(vocab_size, embedding_dim, input_length=max_length),\n",
        "    tf.keras.layers.GlobalAveragePooling1D(),\n",
        "    tf.keras.layers.Dense(24, activation='relu'),\n",
        "    tf.keras.layers.Dense(1, activation='sigmoid')\n",
        "])\n",
        "model.compile(loss='binary_crossentropy',optimizer='adam',metrics=['accuracy'])"
      ],
      "execution_count": 0,
      "outputs": []
    },
    {
      "cell_type": "code",
      "metadata": {
        "id": "XfDt1hmYkiys",
        "colab_type": "code",
        "colab": {
          "base_uri": "https://localhost:8080/",
          "height": 298
        },
        "outputId": "2b8c73d0-a1af-47e4-fd21-323847b08479"
      },
      "source": [
        "model.summary()\n"
      ],
      "execution_count": 35,
      "outputs": [
        {
          "output_type": "stream",
          "text": [
            "Model: \"sequential_4\"\n",
            "_________________________________________________________________\n",
            "Layer (type)                 Output Shape              Param #   \n",
            "=================================================================\n",
            "embedding_4 (Embedding)      (None, 16, 128)           128000    \n",
            "_________________________________________________________________\n",
            "global_average_pooling1d_4 ( (None, 128)               0         \n",
            "_________________________________________________________________\n",
            "dense_8 (Dense)              (None, 24)                3096      \n",
            "_________________________________________________________________\n",
            "dense_9 (Dense)              (None, 1)                 25        \n",
            "=================================================================\n",
            "Total params: 131,121\n",
            "Trainable params: 131,121\n",
            "Non-trainable params: 0\n",
            "_________________________________________________________________\n"
          ],
          "name": "stdout"
        }
      ]
    },
    {
      "cell_type": "code",
      "metadata": {
        "id": "2DTKQFf1kkyc",
        "colab_type": "code",
        "colab": {
          "base_uri": "https://localhost:8080/",
          "height": 1000
        },
        "outputId": "12fa6054-e07b-4fa9-c5ef-96b1334b5941"
      },
      "source": [
        "num_epochs = 30\n",
        "history = model.fit(training_padded, training_labels, epochs=num_epochs, validation_data=(testing_padded, testing_labels), verbose=2)"
      ],
      "execution_count": 36,
      "outputs": [
        {
          "output_type": "stream",
          "text": [
            "Train on 20000 samples, validate on 6709 samples\n",
            "Epoch 1/30\n",
            "20000/20000 - 2s - loss: 0.4703 - acc: 0.7638 - val_loss: 0.4004 - val_acc: 0.8146\n",
            "Epoch 2/30\n",
            "20000/20000 - 2s - loss: 0.3734 - acc: 0.8292 - val_loss: 0.4133 - val_acc: 0.8091\n",
            "Epoch 3/30\n",
            "20000/20000 - 2s - loss: 0.3649 - acc: 0.8333 - val_loss: 0.4027 - val_acc: 0.8146\n",
            "Epoch 4/30\n",
            "20000/20000 - 2s - loss: 0.3604 - acc: 0.8351 - val_loss: 0.4009 - val_acc: 0.8150\n",
            "Epoch 5/30\n",
            "20000/20000 - 2s - loss: 0.3577 - acc: 0.8362 - val_loss: 0.4025 - val_acc: 0.8120\n",
            "Epoch 6/30\n",
            "20000/20000 - 2s - loss: 0.3549 - acc: 0.8352 - val_loss: 0.4030 - val_acc: 0.8141\n",
            "Epoch 7/30\n",
            "20000/20000 - 2s - loss: 0.3517 - acc: 0.8389 - val_loss: 0.4015 - val_acc: 0.8123\n",
            "Epoch 8/30\n",
            "20000/20000 - 2s - loss: 0.3480 - acc: 0.8396 - val_loss: 0.4017 - val_acc: 0.8147\n",
            "Epoch 9/30\n",
            "20000/20000 - 2s - loss: 0.3440 - acc: 0.8439 - val_loss: 0.4044 - val_acc: 0.8117\n",
            "Epoch 10/30\n",
            "20000/20000 - 2s - loss: 0.3412 - acc: 0.8423 - val_loss: 0.4027 - val_acc: 0.8182\n",
            "Epoch 11/30\n",
            "20000/20000 - 2s - loss: 0.3385 - acc: 0.8447 - val_loss: 0.4050 - val_acc: 0.8179\n",
            "Epoch 12/30\n",
            "20000/20000 - 2s - loss: 0.3360 - acc: 0.8457 - val_loss: 0.4059 - val_acc: 0.8179\n",
            "Epoch 13/30\n",
            "20000/20000 - 2s - loss: 0.3332 - acc: 0.8477 - val_loss: 0.4033 - val_acc: 0.8180\n",
            "Epoch 14/30\n",
            "20000/20000 - 2s - loss: 0.3308 - acc: 0.8505 - val_loss: 0.4025 - val_acc: 0.8192\n",
            "Epoch 15/30\n",
            "20000/20000 - 2s - loss: 0.3276 - acc: 0.8491 - val_loss: 0.4021 - val_acc: 0.8185\n",
            "Epoch 16/30\n",
            "20000/20000 - 2s - loss: 0.3255 - acc: 0.8514 - val_loss: 0.4053 - val_acc: 0.8198\n",
            "Epoch 17/30\n",
            "20000/20000 - 2s - loss: 0.3226 - acc: 0.8529 - val_loss: 0.4040 - val_acc: 0.8198\n",
            "Epoch 18/30\n",
            "20000/20000 - 2s - loss: 0.3200 - acc: 0.8558 - val_loss: 0.4059 - val_acc: 0.8219\n",
            "Epoch 19/30\n",
            "20000/20000 - 2s - loss: 0.3167 - acc: 0.8586 - val_loss: 0.4053 - val_acc: 0.8205\n",
            "Epoch 20/30\n",
            "20000/20000 - 2s - loss: 0.3123 - acc: 0.8582 - val_loss: 0.4059 - val_acc: 0.8177\n",
            "Epoch 21/30\n",
            "20000/20000 - 2s - loss: 0.3079 - acc: 0.8622 - val_loss: 0.4061 - val_acc: 0.8213\n",
            "Epoch 22/30\n",
            "20000/20000 - 2s - loss: 0.3028 - acc: 0.8648 - val_loss: 0.4077 - val_acc: 0.8170\n",
            "Epoch 23/30\n",
            "20000/20000 - 2s - loss: 0.2979 - acc: 0.8683 - val_loss: 0.4094 - val_acc: 0.8138\n",
            "Epoch 24/30\n",
            "20000/20000 - 2s - loss: 0.2927 - acc: 0.8706 - val_loss: 0.4091 - val_acc: 0.8149\n",
            "Epoch 25/30\n",
            "20000/20000 - 2s - loss: 0.2865 - acc: 0.8750 - val_loss: 0.4122 - val_acc: 0.8173\n",
            "Epoch 26/30\n",
            "20000/20000 - 2s - loss: 0.2812 - acc: 0.8755 - val_loss: 0.4204 - val_acc: 0.8173\n",
            "Epoch 27/30\n",
            "20000/20000 - 2s - loss: 0.2745 - acc: 0.8795 - val_loss: 0.4201 - val_acc: 0.8140\n",
            "Epoch 28/30\n",
            "20000/20000 - 2s - loss: 0.2702 - acc: 0.8824 - val_loss: 0.4246 - val_acc: 0.8122\n",
            "Epoch 29/30\n",
            "20000/20000 - 2s - loss: 0.2655 - acc: 0.8842 - val_loss: 0.4284 - val_acc: 0.8110\n",
            "Epoch 30/30\n",
            "20000/20000 - 2s - loss: 0.2600 - acc: 0.8885 - val_loss: 0.4455 - val_acc: 0.8109\n"
          ],
          "name": "stdout"
        }
      ]
    },
    {
      "cell_type": "code",
      "metadata": {
        "id": "2HYfBKXjkmU8",
        "colab_type": "code",
        "colab": {
          "base_uri": "https://localhost:8080/",
          "height": 541
        },
        "outputId": "932d38a8-c459-4355-f55a-388621e8c4e0"
      },
      "source": [
        "import matplotlib.pyplot as plt\n",
        "\n",
        "\n",
        "def plot_graphs(history, string):\n",
        "  plt.plot(history.history[string])\n",
        "  plt.plot(history.history['val_'+string])\n",
        "  plt.xlabel(\"Epochs\")\n",
        "  plt.ylabel(string)\n",
        "  plt.legend([string, 'val_'+string])\n",
        "  plt.show()\n",
        "  \n",
        "plot_graphs(history, \"acc\")\n",
        "plot_graphs(history, \"loss\")"
      ],
      "execution_count": 37,
      "outputs": [
        {
          "output_type": "display_data",
          "data": {
            "image/png": "[encoded data removed]",
            "text/plain": [
              "<Figure size 432x288 with 1 Axes>"
            ]
          },
          "metadata": {
            "tags": []
          }
        },
        {
          "output_type": "display_data",
          "data": {
            "image/png": "[encoded data removed]",
            "text/plain": [
              "<Figure size 432x288 with 1 Axes>"
            ]
          },
          "metadata": {
            "tags": []
          }
        }
      ]
    },
    {
      "cell_type": "code",
      "metadata": {
        "id": "7SBdAZAenvzL",
        "colab_type": "code",
        "colab": {
          "base_uri": "https://localhost:8080/",
          "height": 90
        },
        "outputId": "03865649-c71b-4cc8-fdf7-ef94c153ecc5"
      },
      "source": [
        "reverse_word_index = dict([(value, key) for (key, value) in word_index.items()])\n",
        "\n",
        "def decode_sentence(text):\n",
        "    return ' '.join([reverse_word_index.get(i, '?') for i in text])\n",
        "\n",
        "print(decode_sentence(training_padded[0]))\n",
        "print(training_sentences[2])\n",
        "print(labels[2])"
      ],
      "execution_count": 12,
      "outputs": [
        {
          "output_type": "stream",
          "text": [
            "former <OOV> store clerk sues over secret 'black <OOV> for minority shoppers ? ? ? ? ? ? ? ? ? ? ? ? ? ? ? ? ? ? ? ? ? ? ? ? ? ? ? ? ? ? ? ? ? ? ? ? ? ? ? ? ? ? ? ? ? ? ? ? ? ? ? ? ? ? ? ? ? ? ? ? ? ? ? ? ? ? ? ? ? ? ? ? ? ? ? ? ? ? ? ? ? ? ? ? ? ? ? ?\n",
            "mom starting to fear son's web series closest thing she will have to grandchild\n",
            "1\n"
          ],
          "name": "stdout"
        }
      ]
    },
    {
      "cell_type": "code",
      "metadata": {
        "id": "c9MqihtEkzQ9",
        "colab_type": "code",
        "colab": {
          "base_uri": "https://localhost:8080/",
          "height": 34
        },
        "outputId": "b7ea230c-343f-4e4f-9774-2fad9e86d35e"
      },
      "source": [
        "e = model.layers[0]\n",
        "weights = e.get_weights()[0]\n",
        "print(weights.shape) # shape: (vocab_size, embedding_dim)\n"
      ],
      "execution_count": 13,
      "outputs": [
        {
          "output_type": "stream",
          "text": [
            "(10000, 16)\n"
          ],
          "name": "stdout"
        }
      ]
    },
    {
      "cell_type": "code",
      "metadata": {
        "id": "LoBXVffknldU",
        "colab_type": "code",
        "colab": {}
      },
      "source": [
        "import io\n",
        "\n",
        "out_v = io.open('vecs.tsv', 'w', encoding='utf-8')\n",
        "out_m = io.open('meta.tsv', 'w', encoding='utf-8')\n",
        "for word_num in range(1, vocab_size):\n",
        "  word = reverse_word_index[word_num]\n",
        "  embeddings = weights[word_num]\n",
        "  out_m.write(word + \"\\n\")\n",
        "  out_v.write('\\t'.join([str(x) for x in embeddings]) + \"\\n\")\n",
        "out_v.close()\n",
        "out_m.close()"
      ],
      "execution_count": 0,
      "outputs": []
    },
    {
      "cell_type": "code",
      "metadata": {
        "id": "U4eZ5HtVnnEE",
        "colab_type": "code",
        "colab": {}
      },
      "source": [
        "try:\n",
        "  from google.colab import files\n",
        "except ImportError:\n",
        "  pass\n",
        "else:\n",
        "  files.download('vecs.tsv')\n",
        "  files.download('meta.tsv')"
      ],
      "execution_count": 0,
      "outputs": []
    },
    {
      "cell_type": "code",
      "metadata": {
        "id": "cG8-ArY-qDcz",
        "colab_type": "code",
        "colab": {}
      },
      "source": [
        "sentence = [\"granny starting to fear spiders in the garden might be real\", \"game of thrones season finale showing this sunday night\"]\n",
        "sequences = tokenizer.texts_to_sequences(sentence)\n",
        "padded = pad_sequences(sequences, maxlen=max_length, padding=padding_type, truncating=trunc_type)\n",
        "print(model.predict(padded))"
      ],
      "execution_count": 0,
      "outputs": []
    }
  ]
}