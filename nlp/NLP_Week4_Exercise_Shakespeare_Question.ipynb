{
  "nbformat": 4,
  "nbformat_minor": 0,
  "metadata": {
    "colab": {
      "name": "NLP_Week4_Exercise_Shakespeare_Question.ipynb",
      "provenance": [],
      "include_colab_link": true
    },
    "kernelspec": {
      "name": "python3",
      "display_name": "Python 3"
    },
    "accelerator": "GPU"
  },
  "cells": [
    {
      "cell_type": "markdown",
      "metadata": {
        "id": "view-in-github",
        "colab_type": "text"
      },
      "source": [
        "<a href=\"https://colab.research.google.com/github/zezeko/tf_specialization/blob/master/nlp/NLP_Week4_Exercise_Shakespeare_Question.ipynb\" target=\"_parent\"><img src=\"https://colab.research.google.com/assets/colab-badge.svg\" alt=\"Open In Colab\"/></a>"
      ]
    },
    {
      "cell_type": "code",
      "metadata": {
        "id": "BOwsuGQQY9OL",
        "colab_type": "code",
        "colab": {
          "base_uri": "https://localhost:8080/",
          "height": 63
        },
        "outputId": "16aa8279-6dbd-47ee-d280-f603e9ac761f"
      },
      "source": [
        "from tensorflow.keras.preprocessing.sequence import pad_sequences\n",
        "from tensorflow.keras.layers import Embedding, LSTM, Dense, Dropout, Bidirectional\n",
        "from tensorflow.keras.preprocessing.text import Tokenizer\n",
        "from tensorflow.keras.models import Sequential\n",
        "from tensorflow.keras.optimizers import Adam\n",
        "### YOUR CODE HERE\n",
        "from tensorflow.keras import regularizers\n",
        "import tensorflow.keras.utils as ku \n",
        "import numpy as np "
      ],
      "execution_count": 1,
      "outputs": [
        {
          "output_type": "display_data",
          "data": {
            "text/html": [
              "<p style=\"color: red;\">\n",
              "The default version of TensorFlow in Colab will soon switch to TensorFlow 2.x.<br>\n",
              "We recommend you <a href=\"https://www.tensorflow.org/guide/migrate\" target=\"_blank\">upgrade</a> now \n",
              "or ensure your notebook will continue to use TensorFlow 1.x via the <code>%tensorflow_version 1.x</code> magic:\n",
              "<a href=\"https://colab.research.google.com/notebooks/tensorflow_version.ipynb\" target=\"_blank\">more info</a>.</p>\n"
            ],
            "text/plain": [
              "<IPython.core.display.HTML object>"
            ]
          },
          "metadata": {
            "tags": []
          }
        }
      ]
    },
    {
      "cell_type": "code",
      "metadata": {
        "colab_type": "code",
        "id": "PRnDnCW-Z7qv",
        "colab": {
          "base_uri": "https://localhost:8080/",
          "height": 210
        },
        "outputId": "7c27c125-fee5-4723-d39d-5a9403b85fe2"
      },
      "source": [
        "tokenizer = Tokenizer()\n",
        "!wget --no-check-certificate \\\n",
        "    https://storage.googleapis.com/laurencemoroney-blog.appspot.com/sonnets.txt \\\n",
        "    -O /tmp/sonnets.txt\n",
        "data = open('/tmp/sonnets.txt').read()\n",
        "\n",
        "corpus = data.lower().split(\"\\n\")\n",
        "\n",
        "\n",
        "tokenizer.fit_on_texts(corpus)\n",
        "total_words = len(tokenizer.word_index) + 1\n",
        "\n",
        "# create input sequences using list of tokens\n",
        "input_sequences = []\n",
        "for line in corpus:\n",
        "\ttoken_list = tokenizer.texts_to_sequences([line])[0]\n",
        "\tfor i in range(1, len(token_list)):\n",
        "\t\tn_gram_sequence = token_list[:i+1]\n",
        "\t\tinput_sequences.append(n_gram_sequence)\n",
        "\n",
        "\n",
        "# pad sequences \n",
        "max_sequence_len = max([len(x) for x in input_sequences])\n",
        "input_sequences = np.array(pad_sequences(input_sequences, maxlen=max_sequence_len, padding='pre'))\n",
        "\n",
        "# create predictors and label\n",
        "predictors, label = input_sequences[:,:-1],input_sequences[:,-1]\n",
        "\n",
        "label = ku.to_categorical(label, num_classes=total_words)"
      ],
      "execution_count": 2,
      "outputs": [
        {
          "output_type": "stream",
          "text": [
            "--2020-01-23 06:59:55--  https://storage.googleapis.com/laurencemoroney-blog.appspot.com/sonnets.txt\n",
            "Resolving storage.googleapis.com (storage.googleapis.com)... 172.217.214.128, 2607:f8b0:4001:c05::80\n",
            "Connecting to storage.googleapis.com (storage.googleapis.com)|172.217.214.128|:443... connected.\n",
            "HTTP request sent, awaiting response... 200 OK\n",
            "Length: 93578 (91K) [text/plain]\n",
            "Saving to: ‘/tmp/sonnets.txt’\n",
            "\n",
            "\r/tmp/sonnets.txt      0%[                    ]       0  --.-KB/s               \r/tmp/sonnets.txt    100%[===================>]  91.38K  --.-KB/s    in 0.001s  \n",
            "\n",
            "2020-01-23 06:59:55 (135 MB/s) - ‘/tmp/sonnets.txt’ saved [93578/93578]\n",
            "\n"
          ],
          "name": "stdout"
        }
      ]
    },
    {
      "cell_type": "code",
      "metadata": {
        "id": "w9vH8Y59ajYL",
        "colab_type": "code",
        "colab": {
          "base_uri": "https://localhost:8080/",
          "height": 386
        },
        "outputId": "a3c9bfb5-49ab-4356-ad14-b3d919c49442"
      },
      "source": [
        "model = Sequential()\n",
        "model.add(Embedding(total_words, 100, input_length=max_sequence_len-1))\n",
        "model.add(Bidirectional(LSTM(150, return_sequences=True)))\n",
        "model.add(Dropout(0.2))\n",
        "model.add(LSTM(100))\n",
        "model.add(Dense(total_words/2, activation='relu', kernel_regularizer=regularizers.l2(0.01)))\n",
        "model.add((Dense(total_words, activation='softmax')))\n",
        "# Pick an optimizer\n",
        "model.compile(loss='categorical_crossentropy', optimizer='adam', metrics=['accuracy'])\n",
        "print(model.summary())\n"
      ],
      "execution_count": 8,
      "outputs": [
        {
          "output_type": "stream",
          "text": [
            "Model: \"sequential_3\"\n",
            "_________________________________________________________________\n",
            "Layer (type)                 Output Shape              Param #   \n",
            "=================================================================\n",
            "embedding_3 (Embedding)      (None, 10, 100)           321100    \n",
            "_________________________________________________________________\n",
            "bidirectional_2 (Bidirection (None, 10, 300)           301200    \n",
            "_________________________________________________________________\n",
            "dropout_2 (Dropout)          (None, 10, 300)           0         \n",
            "_________________________________________________________________\n",
            "lstm_6 (LSTM)                (None, 100)               160400    \n",
            "_________________________________________________________________\n",
            "dense_2 (Dense)              (None, 1605)              162105    \n",
            "_________________________________________________________________\n",
            "dense_3 (Dense)              (None, 3211)              5156866   \n",
            "=================================================================\n",
            "Total params: 6,101,671\n",
            "Trainable params: 6,101,671\n",
            "Non-trainable params: 0\n",
            "_________________________________________________________________\n",
            "None\n"
          ],
          "name": "stdout"
        }
      ]
    },
    {
      "cell_type": "code",
      "metadata": {
        "id": "AIg2f1HBxqof",
        "colab_type": "code",
        "colab": {
          "base_uri": "https://localhost:8080/",
          "height": 1000
        },
        "outputId": "b45ba796-62e8-494f-d683-2dc33d43e43a"
      },
      "source": [
        " history = model.fit(predictors, label, epochs=100, verbose=1)"
      ],
      "execution_count": 9,
      "outputs": [
        {
          "output_type": "stream",
          "text": [
            "Train on 15462 samples\n",
            "Epoch 1/100\n",
            "15462/15462 [==============================] - 26s 2ms/sample - loss: 6.8989 - acc: 0.0211\n",
            "Epoch 2/100\n",
            "15462/15462 [==============================] - 26s 2ms/sample - loss: 6.4992 - acc: 0.0227\n",
            "Epoch 3/100\n",
            "15462/15462 [==============================] - 25s 2ms/sample - loss: 6.3789 - acc: 0.0257\n",
            "Epoch 4/100\n",
            "15462/15462 [==============================] - 25s 2ms/sample - loss: 6.2595 - acc: 0.0292\n",
            "Epoch 5/100\n",
            "15462/15462 [==============================] - 25s 2ms/sample - loss: 6.1758 - acc: 0.0355\n",
            "Epoch 6/100\n",
            "15462/15462 [==============================] - 25s 2ms/sample - loss: 6.0928 - acc: 0.0392\n",
            "Epoch 7/100\n",
            "15462/15462 [==============================] - 25s 2ms/sample - loss: 6.0187 - acc: 0.0393\n",
            "Epoch 8/100\n",
            "15462/15462 [==============================] - 25s 2ms/sample - loss: 5.9370 - acc: 0.0458\n",
            "Epoch 9/100\n",
            "15462/15462 [==============================] - 25s 2ms/sample - loss: 5.8375 - acc: 0.0505\n",
            "Epoch 10/100\n",
            "15462/15462 [==============================] - 25s 2ms/sample - loss: 5.7337 - acc: 0.0564\n",
            "Epoch 11/100\n",
            "15462/15462 [==============================] - 25s 2ms/sample - loss: 5.6298 - acc: 0.0610\n",
            "Epoch 12/100\n",
            "15462/15462 [==============================] - 25s 2ms/sample - loss: 5.5301 - acc: 0.0674\n",
            "Epoch 13/100\n",
            "15462/15462 [==============================] - 25s 2ms/sample - loss: 5.4291 - acc: 0.0750\n",
            "Epoch 14/100\n",
            "15462/15462 [==============================] - 25s 2ms/sample - loss: 5.3241 - acc: 0.0821\n",
            "Epoch 15/100\n",
            "15462/15462 [==============================] - 25s 2ms/sample - loss: 5.2163 - acc: 0.0883\n",
            "Epoch 16/100\n",
            "15462/15462 [==============================] - 23s 1ms/sample - loss: 5.1011 - acc: 0.0990\n",
            "Epoch 17/100\n",
            "15462/15462 [==============================] - 23s 1ms/sample - loss: 4.9993 - acc: 0.1041\n",
            "Epoch 18/100\n",
            "15462/15462 [==============================] - 22s 1ms/sample - loss: 4.8888 - acc: 0.1100\n",
            "Epoch 19/100\n",
            "15462/15462 [==============================] - 22s 1ms/sample - loss: 4.7874 - acc: 0.1200\n",
            "Epoch 20/100\n",
            "15462/15462 [==============================] - 22s 1ms/sample - loss: 4.6772 - acc: 0.1304\n",
            "Epoch 21/100\n",
            "15462/15462 [==============================] - 23s 1ms/sample - loss: 4.5805 - acc: 0.1367\n",
            "Epoch 22/100\n",
            "15462/15462 [==============================] - 22s 1ms/sample - loss: 4.4756 - acc: 0.1436\n",
            "Epoch 23/100\n",
            "15462/15462 [==============================] - 23s 1ms/sample - loss: 4.3641 - acc: 0.1567\n",
            "Epoch 24/100\n",
            "15462/15462 [==============================] - 23s 1ms/sample - loss: 4.2637 - acc: 0.1683\n",
            "Epoch 25/100\n",
            "15462/15462 [==============================] - 23s 1ms/sample - loss: 4.1678 - acc: 0.1847\n",
            "Epoch 26/100\n",
            "15462/15462 [==============================] - 23s 2ms/sample - loss: 4.0550 - acc: 0.1967\n",
            "Epoch 27/100\n",
            "15462/15462 [==============================] - 23s 2ms/sample - loss: 3.9597 - acc: 0.2121\n",
            "Epoch 28/100\n",
            "15462/15462 [==============================] - 24s 2ms/sample - loss: 3.8570 - acc: 0.2266\n",
            "Epoch 29/100\n",
            "15462/15462 [==============================] - 24s 2ms/sample - loss: 3.7616 - acc: 0.2466\n",
            "Epoch 30/100\n",
            "15462/15462 [==============================] - 23s 1ms/sample - loss: 3.6603 - acc: 0.2641\n",
            "Epoch 31/100\n",
            "15462/15462 [==============================] - 23s 1ms/sample - loss: 3.5733 - acc: 0.2834\n",
            "Epoch 32/100\n",
            "15462/15462 [==============================] - 25s 2ms/sample - loss: 3.4845 - acc: 0.3050\n",
            "Epoch 33/100\n",
            "15462/15462 [==============================] - 24s 2ms/sample - loss: 3.3971 - acc: 0.3255\n",
            "Epoch 34/100\n",
            "15462/15462 [==============================] - 24s 2ms/sample - loss: 3.3187 - acc: 0.3400\n",
            "Epoch 35/100\n",
            "15462/15462 [==============================] - 25s 2ms/sample - loss: 3.2397 - acc: 0.3595\n",
            "Epoch 36/100\n",
            "15462/15462 [==============================] - 25s 2ms/sample - loss: 3.1461 - acc: 0.3820\n",
            "Epoch 37/100\n",
            "15462/15462 [==============================] - 25s 2ms/sample - loss: 3.0704 - acc: 0.3982\n",
            "Epoch 38/100\n",
            "15462/15462 [==============================] - 25s 2ms/sample - loss: 3.0034 - acc: 0.4109\n",
            "Epoch 39/100\n",
            "15462/15462 [==============================] - 25s 2ms/sample - loss: 2.9283 - acc: 0.4292\n",
            "Epoch 40/100\n",
            "15462/15462 [==============================] - 25s 2ms/sample - loss: 2.8631 - acc: 0.4430\n",
            "Epoch 41/100\n",
            "15462/15462 [==============================] - 25s 2ms/sample - loss: 2.7963 - acc: 0.4624\n",
            "Epoch 42/100\n",
            "15462/15462 [==============================] - 25s 2ms/sample - loss: 2.7304 - acc: 0.4768\n",
            "Epoch 43/100\n",
            "15462/15462 [==============================] - 25s 2ms/sample - loss: 2.6740 - acc: 0.4884\n",
            "Epoch 44/100\n",
            "15462/15462 [==============================] - 25s 2ms/sample - loss: 2.6177 - acc: 0.5048\n",
            "Epoch 45/100\n",
            "15462/15462 [==============================] - 25s 2ms/sample - loss: 2.5486 - acc: 0.5168\n",
            "Epoch 46/100\n",
            "15462/15462 [==============================] - 25s 2ms/sample - loss: 2.4859 - acc: 0.5330\n",
            "Epoch 47/100\n",
            "15462/15462 [==============================] - 25s 2ms/sample - loss: 2.4438 - acc: 0.5396\n",
            "Epoch 48/100\n",
            "15462/15462 [==============================] - 25s 2ms/sample - loss: 2.3830 - acc: 0.5534\n",
            "Epoch 49/100\n",
            "15462/15462 [==============================] - 25s 2ms/sample - loss: 2.3294 - acc: 0.5666\n",
            "Epoch 50/100\n",
            "15462/15462 [==============================] - 24s 2ms/sample - loss: 2.3039 - acc: 0.5706\n",
            "Epoch 51/100\n",
            "15462/15462 [==============================] - 22s 1ms/sample - loss: 2.2443 - acc: 0.5848\n",
            "Epoch 52/100\n",
            "15462/15462 [==============================] - 23s 2ms/sample - loss: 2.2055 - acc: 0.5920\n",
            "Epoch 53/100\n",
            "15462/15462 [==============================] - 23s 1ms/sample - loss: 2.1540 - acc: 0.6017\n",
            "Epoch 54/100\n",
            "15462/15462 [==============================] - 22s 1ms/sample - loss: 2.1134 - acc: 0.6136\n",
            "Epoch 55/100\n",
            "15462/15462 [==============================] - 22s 1ms/sample - loss: 2.0793 - acc: 0.6179\n",
            "Epoch 56/100\n",
            "15462/15462 [==============================] - 22s 1ms/sample - loss: 2.0359 - acc: 0.6305\n",
            "Epoch 57/100\n",
            "15462/15462 [==============================] - 22s 1ms/sample - loss: 1.9956 - acc: 0.6387\n",
            "Epoch 58/100\n",
            "15462/15462 [==============================] - 23s 1ms/sample - loss: 1.9565 - acc: 0.6480\n",
            "Epoch 59/100\n",
            "15462/15462 [==============================] - 23s 1ms/sample - loss: 1.9277 - acc: 0.6549\n",
            "Epoch 60/100\n",
            "15462/15462 [==============================] - 24s 2ms/sample - loss: 1.8834 - acc: 0.6689\n",
            "Epoch 61/100\n",
            "15462/15462 [==============================] - 23s 2ms/sample - loss: 1.8576 - acc: 0.6694\n",
            "Epoch 62/100\n",
            "15462/15462 [==============================] - 22s 1ms/sample - loss: 1.8341 - acc: 0.6748\n",
            "Epoch 63/100\n",
            "15462/15462 [==============================] - 23s 1ms/sample - loss: 1.7952 - acc: 0.6854\n",
            "Epoch 64/100\n",
            "15462/15462 [==============================] - 22s 1ms/sample - loss: 1.7587 - acc: 0.6857\n",
            "Epoch 65/100\n",
            "15462/15462 [==============================] - 23s 1ms/sample - loss: 1.7496 - acc: 0.6905\n",
            "Epoch 66/100\n",
            "15462/15462 [==============================] - 22s 1ms/sample - loss: 1.7136 - acc: 0.6999\n",
            "Epoch 67/100\n",
            "15462/15462 [==============================] - 22s 1ms/sample - loss: 1.6730 - acc: 0.7089\n",
            "Epoch 68/100\n",
            "15462/15462 [==============================] - 22s 1ms/sample - loss: 1.6569 - acc: 0.7060\n",
            "Epoch 69/100\n",
            "15462/15462 [==============================] - 23s 1ms/sample - loss: 1.6412 - acc: 0.7108\n",
            "Epoch 70/100\n",
            "15462/15462 [==============================] - 23s 1ms/sample - loss: 1.6028 - acc: 0.7212\n",
            "Epoch 71/100\n",
            "15462/15462 [==============================] - 23s 2ms/sample - loss: 1.5887 - acc: 0.7225\n",
            "Epoch 72/100\n",
            "15462/15462 [==============================] - 24s 2ms/sample - loss: 1.5520 - acc: 0.7322\n",
            "Epoch 73/100\n",
            "15462/15462 [==============================] - 23s 2ms/sample - loss: 1.5418 - acc: 0.7315\n",
            "Epoch 74/100\n",
            "15462/15462 [==============================] - 23s 1ms/sample - loss: 1.5136 - acc: 0.7416\n",
            "Epoch 75/100\n",
            "15462/15462 [==============================] - 22s 1ms/sample - loss: 1.4921 - acc: 0.7430\n",
            "Epoch 76/100\n",
            "15462/15462 [==============================] - 23s 1ms/sample - loss: 1.4804 - acc: 0.7436\n",
            "Epoch 77/100\n",
            "15462/15462 [==============================] - 24s 2ms/sample - loss: 1.4702 - acc: 0.7476\n",
            "Epoch 78/100\n",
            "15462/15462 [==============================] - 25s 2ms/sample - loss: 1.4279 - acc: 0.7571\n",
            "Epoch 79/100\n",
            "15462/15462 [==============================] - 23s 1ms/sample - loss: 1.4099 - acc: 0.7610\n",
            "Epoch 80/100\n",
            "15462/15462 [==============================] - 22s 1ms/sample - loss: 1.3944 - acc: 0.7607\n",
            "Epoch 81/100\n",
            "15462/15462 [==============================] - 22s 1ms/sample - loss: 1.3793 - acc: 0.7634\n",
            "Epoch 82/100\n",
            "15462/15462 [==============================] - 22s 1ms/sample - loss: 1.3799 - acc: 0.7614\n",
            "Epoch 83/100\n",
            "15462/15462 [==============================] - 22s 1ms/sample - loss: 1.3708 - acc: 0.7639\n",
            "Epoch 84/100\n",
            "15462/15462 [==============================] - 22s 1ms/sample - loss: 1.3323 - acc: 0.7687\n",
            "Epoch 85/100\n",
            "15462/15462 [==============================] - 22s 1ms/sample - loss: 1.3176 - acc: 0.7718\n",
            "Epoch 86/100\n",
            "15462/15462 [==============================] - 22s 1ms/sample - loss: 1.3201 - acc: 0.7729\n",
            "Epoch 87/100\n",
            "15462/15462 [==============================] - 22s 1ms/sample - loss: 1.2907 - acc: 0.7774\n",
            "Epoch 88/100\n",
            "15462/15462 [==============================] - 23s 1ms/sample - loss: 1.2848 - acc: 0.7800\n",
            "Epoch 89/100\n",
            "15462/15462 [==============================] - 22s 1ms/sample - loss: 1.2559 - acc: 0.7863\n",
            "Epoch 90/100\n",
            "15462/15462 [==============================] - 23s 1ms/sample - loss: 1.2561 - acc: 0.7844\n",
            "Epoch 91/100\n",
            "15462/15462 [==============================] - 23s 1ms/sample - loss: 1.2519 - acc: 0.7845\n",
            "Epoch 92/100\n",
            "15462/15462 [==============================] - 22s 1ms/sample - loss: 1.2295 - acc: 0.7886\n",
            "Epoch 93/100\n",
            "15462/15462 [==============================] - 23s 1ms/sample - loss: 1.2173 - acc: 0.7915\n",
            "Epoch 94/100\n",
            "15462/15462 [==============================] - 23s 1ms/sample - loss: 1.2083 - acc: 0.7930\n",
            "Epoch 95/100\n",
            "15462/15462 [==============================] - 22s 1ms/sample - loss: 1.1995 - acc: 0.7956\n",
            "Epoch 96/100\n",
            "15462/15462 [==============================] - 23s 2ms/sample - loss: 1.1777 - acc: 0.7976\n",
            "Epoch 97/100\n",
            "15462/15462 [==============================] - 22s 1ms/sample - loss: 1.1690 - acc: 0.7998\n",
            "Epoch 98/100\n",
            "15462/15462 [==============================] - 23s 2ms/sample - loss: 1.1659 - acc: 0.7975\n",
            "Epoch 99/100\n",
            "15462/15462 [==============================] - 24s 2ms/sample - loss: 1.1594 - acc: 0.7994\n",
            "Epoch 100/100\n",
            "15462/15462 [==============================] - 23s 1ms/sample - loss: 1.1517 - acc: 0.8012\n"
          ],
          "name": "stdout"
        }
      ]
    },
    {
      "cell_type": "code",
      "metadata": {
        "id": "1fXTEO3GJ282",
        "colab_type": "code",
        "colab": {
          "base_uri": "https://localhost:8080/",
          "height": 545
        },
        "outputId": "1308f003-319b-4f89-c11e-1570d07feefe"
      },
      "source": [
        "import matplotlib.pyplot as plt\n",
        "acc = history.history['acc']\n",
        "loss = history.history['loss']\n",
        "\n",
        "epochs = range(len(acc))\n",
        "\n",
        "plt.plot(epochs, acc, 'b', label='Training accuracy')\n",
        "plt.title('Training accuracy')\n",
        "\n",
        "plt.figure()\n",
        "\n",
        "plt.plot(epochs, loss, 'b', label='Training Loss')\n",
        "plt.title('Training loss')\n",
        "plt.legend()\n",
        "\n",
        "plt.show()"
      ],
      "execution_count": 10,
      "outputs": [
        {
          "output_type": "display_data",
          "data": {
            "image/png": "[encoded data removed]",
            "text/plain": [
              "<Figure size 432x288 with 1 Axes>"
            ]
          },
          "metadata": {
            "tags": []
          }
        },
        {
          "output_type": "display_data",
          "data": {
            "image/png": "[encoded data removed]",
            "text/plain": [
              "<Figure size 432x288 with 1 Axes>"
            ]
          },
          "metadata": {
            "tags": []
          }
        }
      ]
    },
    {
      "cell_type": "code",
      "metadata": {
        "id": "6Vc6PHgxa6Hm",
        "colab_type": "code",
        "colab": {
          "base_uri": "https://localhost:8080/",
          "height": 54
        },
        "outputId": "e3f10532-7510-4eea-c267-a2f3bf7d1334"
      },
      "source": [
        "seed_text = \"Help me Obi Wan Kenobi, you're my only hope\"\n",
        "next_words = 100\n",
        "  \n",
        "for _ in range(next_words):\n",
        "\ttoken_list = tokenizer.texts_to_sequences([seed_text])[0]\n",
        "\ttoken_list = pad_sequences([token_list], maxlen=max_sequence_len-1, padding='pre')\n",
        "\tpredicted = model.predict_classes(token_list, verbose=0)\n",
        "\toutput_word = \"\"\n",
        "\tfor word, index in tokenizer.word_index.items():\n",
        "\t\tif index == predicted:\n",
        "\t\t\toutput_word = word\n",
        "\t\t\tbreak\n",
        "\tseed_text += \" \" + output_word\n",
        "print(seed_text)"
      ],
      "execution_count": 11,
      "outputs": [
        {
          "output_type": "stream",
          "text": [
            "Help me Obi Wan Kenobi, you're my only hope is eyes alone so ' say what my granting is more shall still still live dear pen ' hast good more prove new new new face on of one worth on one blunt bad well find thee find alone still seen last by store on ill sit light light light fitted light flowers here must see you live alone on thee green thee one shall bold give give thee more ' deny me not straight dwell give thee show thee him after glory so flatter write a story heart ' me see back thence told not young me so dearly\n"
          ],
          "name": "stdout"
        }
      ]
    }
  ]
}