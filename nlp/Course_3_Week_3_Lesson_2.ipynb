{
  "nbformat": 4,
  "nbformat_minor": 0,
  "metadata": {
    "colab": {
      "name": "Course 3 - Week 3 - Lesson 2.ipynb",
      "provenance": [],
      "collapsed_sections": [],
      "include_colab_link": true
    },
    "kernelspec": {
      "name": "python3",
      "display_name": "Python 3"
    },
    "accelerator": "GPU"
  },
  "cells": [
    {
      "cell_type": "markdown",
      "metadata": {
        "id": "view-in-github",
        "colab_type": "text"
      },
      "source": [
        "<a href=\"https://colab.research.google.com/github/zezeko/tf_specialization/blob/master/nlp/Course_3_Week_3_Lesson_2.ipynb\" target=\"_parent\"><img src=\"https://colab.research.google.com/assets/colab-badge.svg\" alt=\"Open In Colab\"/></a>"
      ]
    },
    {
      "cell_type": "code",
      "metadata": {
        "id": "jGwXGIXvFhXW",
        "colab_type": "code",
        "colab": {
          "base_uri": "https://localhost:8080/",
          "height": 1000
        },
        "outputId": "d6c1bb51-b9bd-4ee8-9727-5c734bc5195e"
      },
      "source": [
        "import json\n",
        "import tensorflow as tf\n",
        "import numpy as np\n",
        "\n",
        "from tensorflow.keras.preprocessing.text import Tokenizer\n",
        "from tensorflow.keras.preprocessing.sequence import pad_sequences\n",
        "\n",
        "!wget --no-check-certificate \\\n",
        "    https://storage.googleapis.com/laurencemoroney-blog.appspot.com/sarcasm.json \\\n",
        "    -O /tmp/sarcasm.json\n",
        "\n",
        "vocab_size = 1000\n",
        "embedding_dim = 16\n",
        "max_length = 120\n",
        "trunc_type='post'\n",
        "padding_type='post'\n",
        "oov_tok = \"<OOV>\"\n",
        "training_size = 20000\n",
        "\n",
        "\n",
        "with open(\"/tmp/sarcasm.json\", 'r') as f:\n",
        "    datastore = json.load(f)\n",
        "\n",
        "\n",
        "sentences = []\n",
        "labels = []\n",
        "urls = []\n",
        "for item in datastore:\n",
        "    sentences.append(item['headline'])\n",
        "    labels.append(item['is_sarcastic'])\n",
        "\n",
        "training_sentences = sentences[0:training_size]\n",
        "testing_sentences = sentences[training_size:]\n",
        "training_labels = labels[0:training_size]\n",
        "testing_labels = labels[training_size:]\n",
        "\n",
        "tokenizer = Tokenizer(num_words=vocab_size, oov_token=oov_tok)\n",
        "tokenizer.fit_on_texts(training_sentences)\n",
        "\n",
        "word_index = tokenizer.word_index\n",
        "\n",
        "training_sequences = tokenizer.texts_to_sequences(training_sentences)\n",
        "training_padded = pad_sequences(training_sequences, maxlen=max_length, padding=padding_type, truncating=trunc_type)\n",
        "\n",
        "testing_sequences = tokenizer.texts_to_sequences(testing_sentences)\n",
        "testing_padded = pad_sequences(testing_sequences, maxlen=max_length, padding=padding_type, truncating=trunc_type)\n",
        "\n",
        "model = tf.keras.Sequential([\n",
        "    tf.keras.layers.Embedding(vocab_size, embedding_dim, input_length=max_length),\n",
        "    tf.keras.layers.Bidirectional(tf.keras.layers.LSTM(32)),\n",
        "    tf.keras.layers.Dense(24, activation='relu'),\n",
        "    tf.keras.layers.Dense(1, activation='sigmoid')\n",
        "])\n",
        "model.compile(loss='binary_crossentropy',optimizer='adam',metrics=['accuracy'])\n",
        "model.summary()\n",
        "\n",
        "num_epochs = 50\n",
        "training_padded = np.array(training_padded)\n",
        "training_labels = np.array(training_labels)\n",
        "testing_padded = np.array(testing_padded)\n",
        "testing_labels = np.array(testing_labels)\n",
        "history = model.fit(training_padded, training_labels, epochs=num_epochs, validation_data=(testing_padded, testing_labels), verbose=1)\n",
        "\n"
      ],
      "execution_count": 0,
      "outputs": [
        {
          "output_type": "stream",
          "text": [
            "--2020-01-22 10:52:20--  https://storage.googleapis.com/laurencemoroney-blog.appspot.com/sarcasm.json\n",
            "Resolving storage.googleapis.com (storage.googleapis.com)... 173.194.216.128, 2607:f8b0:400c:c0d::80\n",
            "Connecting to storage.googleapis.com (storage.googleapis.com)|173.194.216.128|:443... connected.\n",
            "HTTP request sent, awaiting response... 200 OK\n",
            "Length: 5643545 (5.4M) [application/json]\n",
            "Saving to: ‘/tmp/sarcasm.json’\n",
            "\n",
            "\r/tmp/sarcasm.json     0%[                    ]       0  --.-KB/s               \r/tmp/sarcasm.json   100%[===================>]   5.38M  --.-KB/s    in 0.06s   \n",
            "\n",
            "2020-01-22 10:52:20 (88.6 MB/s) - ‘/tmp/sarcasm.json’ saved [5643545/5643545]\n",
            "\n",
            "Model: \"sequential_1\"\n",
            "_________________________________________________________________\n",
            "Layer (type)                 Output Shape              Param #   \n",
            "=================================================================\n",
            "embedding_1 (Embedding)      (None, 120, 16)           16000     \n",
            "_________________________________________________________________\n",
            "bidirectional_1 (Bidirection (None, 64)                12544     \n",
            "_________________________________________________________________\n",
            "dense_2 (Dense)              (None, 24)                1560      \n",
            "_________________________________________________________________\n",
            "dense_3 (Dense)              (None, 1)                 25        \n",
            "=================================================================\n",
            "Total params: 30,129\n",
            "Trainable params: 30,129\n",
            "Non-trainable params: 0\n",
            "_________________________________________________________________\n",
            "Train on 20000 samples, validate on 6709 samples\n",
            "Epoch 1/50\n",
            "20000/20000 [==============================] - 246s 12ms/sample - loss: 0.4488 - acc: 0.7762 - val_loss: 0.3897 - val_acc: 0.8214\n",
            "Epoch 2/50\n",
            "20000/20000 [==============================] - 241s 12ms/sample - loss: 0.3571 - acc: 0.8342 - val_loss: 0.3797 - val_acc: 0.8250\n",
            "Epoch 3/50\n",
            "20000/20000 [==============================] - 242s 12ms/sample - loss: 0.3333 - acc: 0.8482 - val_loss: 0.3835 - val_acc: 0.8140\n",
            "Epoch 4/50\n",
            "20000/20000 [==============================] - 241s 12ms/sample - loss: 0.3168 - acc: 0.8571 - val_loss: 0.3737 - val_acc: 0.8296\n",
            "Epoch 5/50\n",
            "20000/20000 [==============================] - 247s 12ms/sample - loss: 0.3058 - acc: 0.8631 - val_loss: 0.3843 - val_acc: 0.8259\n",
            "Epoch 6/50\n",
            "20000/20000 [==============================] - 239s 12ms/sample - loss: 0.2985 - acc: 0.8671 - val_loss: 0.3721 - val_acc: 0.8344\n",
            "Epoch 7/50\n",
            "20000/20000 [==============================] - 241s 12ms/sample - loss: 0.2893 - acc: 0.8709 - val_loss: 0.3772 - val_acc: 0.8343\n",
            "Epoch 8/50\n",
            "20000/20000 [==============================] - 247s 12ms/sample - loss: 0.2791 - acc: 0.8783 - val_loss: 0.3862 - val_acc: 0.8322\n",
            "Epoch 9/50\n",
            "20000/20000 [==============================] - 251s 13ms/sample - loss: 0.2696 - acc: 0.8827 - val_loss: 0.3912 - val_acc: 0.8310\n",
            "Epoch 10/50\n",
            "20000/20000 [==============================] - 244s 12ms/sample - loss: 0.2613 - acc: 0.8888 - val_loss: 0.3926 - val_acc: 0.8269\n",
            "Epoch 11/50\n",
            "20000/20000 [==============================] - 246s 12ms/sample - loss: 0.2518 - acc: 0.8912 - val_loss: 0.4106 - val_acc: 0.8246\n",
            "Epoch 12/50\n",
            "20000/20000 [==============================] - 252s 13ms/sample - loss: 0.2438 - acc: 0.8950 - val_loss: 0.4154 - val_acc: 0.8267\n",
            "Epoch 13/50\n",
            "20000/20000 [==============================] - 245s 12ms/sample - loss: 0.2350 - acc: 0.8992 - val_loss: 0.4173 - val_acc: 0.8255\n",
            "Epoch 14/50\n",
            "20000/20000 [==============================] - 246s 12ms/sample - loss: 0.2296 - acc: 0.9042 - val_loss: 0.4535 - val_acc: 0.8208\n",
            "Epoch 15/50\n",
            "  352/20000 [..............................] - ETA: 3:54 - loss: 0.2104 - acc: 0.9091"
          ],
          "name": "stdout"
        }
      ]
    },
    {
      "cell_type": "code",
      "metadata": {
        "id": "g9DC6dmLF8DC",
        "colab_type": "code",
        "colab": {}
      },
      "source": [
        "import matplotlib.pyplot as plt\n",
        "\n",
        "\n",
        "def plot_graphs(history, string):\n",
        "  plt.plot(history.history[string])\n",
        "  plt.plot(history.history['val_'+string])\n",
        "  plt.xlabel(\"Epochs\")\n",
        "  plt.ylabel(string)\n",
        "  plt.legend([string, 'val_'+string])\n",
        "  plt.show()\n",
        "\n",
        "plot_graphs(history, 'acc')\n",
        "plot_graphs(history, 'loss')"
      ],
      "execution_count": 0,
      "outputs": []
    },
    {
      "cell_type": "code",
      "metadata": {
        "id": "7ZEZIUppGhdi",
        "colab_type": "code",
        "colab": {}
      },
      "source": [
        "model.save(\"test.h5\")"
      ],
      "execution_count": 0,
      "outputs": []
    }
  ]
}